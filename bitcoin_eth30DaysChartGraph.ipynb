{
 "cells": [
  {
   "cell_type": "markdown",
   "metadata": {},
   "source": [
    "## Taking the unit prices of BTC and ETH with RestAPI and analyzing them on candlestick charts"
   ]
  },
  {
   "cell_type": "code",
   "execution_count": 1,
   "metadata": {},
   "outputs": [],
   "source": [
    "from pycoingecko import CoinGeckoAPI\n",
    "import pandas as pd\n",
    "import plotly.graph_objects as go\n",
    "import plotly.io as pio"
   ]
  },
  {
   "cell_type": "code",
   "execution_count": 2,
   "metadata": {},
   "outputs": [],
   "source": [
    "cg=CoinGeckoAPI()\n",
    "#RestAPI module"
   ]
  },
  {
   "cell_type": "markdown",
   "metadata": {},
   "source": [
    "### Data Prep"
   ]
  },
  {
   "cell_type": "code",
   "execution_count": 3,
   "metadata": {},
   "outputs": [],
   "source": [
    "def candlestick_dataPreper(coin_name):\n",
    "    \n",
    "    try:\n",
    "        \n",
    "        coin_data=cg.get_coin_market_chart_by_id(id=coin_name,vs_currency=\"usd\",days=30)\n",
    "\n",
    "        coin_price_data=coin_data[\"prices\"]\n",
    "\n",
    "        dataCoin=pd.DataFrame(coin_price_data,columns=[\"TimeStamp\",\"Price\"])\n",
    "\n",
    "        dataCoin[\"Date\"]=pd.to_datetime(dataCoin[\"TimeStamp\"],unit=\"ms\")\n",
    "\n",
    "        candlestick_dataCoin=dataCoin.groupby(dataCoin.Date.dt.date).agg({\"Price\":[\"min\",\"max\",\"first\",\"last\"]})\n",
    "        \n",
    "        return candlestick_dataCoin\n",
    "        \n",
    "    except:\n",
    "        \n",
    "        print(\"Please enter the coin name correctly..\")\n",
    "        \n",
    "#For the generic coding of the collecting the data in the pd.DataFrame"
   ]
  },
  {
   "cell_type": "code",
   "execution_count": 4,
   "metadata": {},
   "outputs": [],
   "source": [
    "candlestick_dataBTC=candlestick_dataPreper(\"bitcoin\")\n",
    "candlestick_dataETH=candlestick_dataPreper(\"ethereum\")"
   ]
  },
  {
   "cell_type": "markdown",
   "metadata": {},
   "source": [
    "### Data Visualization"
   ]
  },
  {
   "cell_type": "code",
   "execution_count": 16,
   "metadata": {},
   "outputs": [],
   "source": [
    "def figDrawer(candlestick_data,coin_name,vs_currency):\n",
    "    \n",
    "    fig=go.Figure(data=[go.Candlestick(x=candlestick_data.index,\n",
    "                    open=candlestick_data[\"Price\"][\"first\"],\n",
    "                    high=candlestick_data[\"Price\"][\"max\"],\n",
    "                    low=candlestick_data[\"Price\"][\"min\"],\n",
    "                    close=candlestick_data[\"Price\"][\"last\"])\n",
    "                    ])\n",
    "    \n",
    "    fig.update_layout(xaxis_rangeslider_visible=False,xaxis_title=\"Date\",yaxis_title=\"Price ({})\".format(vs_currency)\n",
    "                  ,title=\"{} Candlestick Chart Over {} Days\".format(coin_name,candlestick_dataBTC.index.shape[0]))\n",
    "    \n",
    "    \n",
    "    return fig\n",
    "\n",
    "#For the generic coding of the visualize the data"
   ]
  },
  {
   "cell_type": "code",
   "execution_count": 18,
   "metadata": {},
   "outputs": [],
   "source": [
    "fig=figDrawer(candlestick_dataETH,\"ETH\",\"USD\")\n",
    "pio.write_html(fig, file='stock1_figure.html', auto_open=True)"
   ]
  },
  {
   "cell_type": "code",
   "execution_count": 19,
   "metadata": {},
   "outputs": [],
   "source": [
    "figDrawer(candlestick_dataBTC,\"BTC\",\"USD\")\n",
    "pio.write_html(fig, file='stock2_figure.html', auto_open=True)"
   ]
  },
  {
   "cell_type": "code",
   "execution_count": null,
   "metadata": {},
   "outputs": [],
   "source": []
  },
  {
   "cell_type": "code",
   "execution_count": null,
   "metadata": {},
   "outputs": [],
   "source": []
  }
 ],
 "metadata": {
  "kernelspec": {
   "display_name": "Python 3 (ipykernel)",
   "language": "python",
   "name": "python3"
  },
  "language_info": {
   "codemirror_mode": {
    "name": "ipython",
    "version": 3
   },
   "file_extension": ".py",
   "mimetype": "text/x-python",
   "name": "python",
   "nbconvert_exporter": "python",
   "pygments_lexer": "ipython3",
   "version": "3.9.7"
  }
 },
 "nbformat": 4,
 "nbformat_minor": 4
}
